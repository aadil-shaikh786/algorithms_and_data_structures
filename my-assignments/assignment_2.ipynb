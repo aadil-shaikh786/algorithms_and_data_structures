{
 "cells": [
  {
   "cell_type": "markdown",
   "metadata": {},
   "source": [
    "# Practice Interview\n",
    "\n",
    "## Objective\n",
    "\n",
    "_*The partner assignment aims to provide participants with the opportunity to practice coding in an interview context. You will analyze your partner's Assignment 1. Moreover, code reviews are common practice in a software development team. This assignment should give you a taste of the code review process.*_\n",
    "\n",
    "## Group Size\n",
    "\n",
    "Each group should have 2 people. You will be assigned a partner\n",
    "\n",
    "## Part 1:\n",
    "\n",
    "You and your partner must share each other's Assignment 1 submission."
   ]
  },
  {
   "cell_type": "markdown",
   "metadata": {},
   "source": [
    "My partner for assignment 2 is Juan Sebastian Jimenez Valero.\n",
    "And \n",
    "Here is the link to his assignment\n",
    "-  https://github.com/actually-not-an-username/algorithms_and_data_structures/pulls."
   ]
  },
  {
   "cell_type": "markdown",
   "metadata": {},
   "source": [
    "\n",
    "## Part 2:\n",
    "\n",
    "Create a Jupyter Notebook, create 6 of the following headings, and complete the following for your partner's assignment 1:\n",
    "\n",
    "-   Paraphrase the problem in your own words.\n"
   ]
  },
  {
   "cell_type": "markdown",
   "metadata": {},
   "source": [
    "- Qu+estion 1: Check Duplicates in Tree\n",
    "Given a binary tree, identify if there are any duplicate values. If duplicates exist, return the duplicate value closest to the root. If no duplicates exist, return -1.\n",
    "\n",
    "- Question 2: Path to Leaves\n",
    "Find all paths from the root node to the leaf nodes of a binary tree, returning them as lists of values.\n",
    "\n",
    "- Question 3: Missing Number in Range\n",
    "From an array containing integers in the range [0, n], determine the missing integers. Return the missing numbers as a list, or return -1 if there are no missing numbers."
   ]
  },
  {
   "cell_type": "markdown",
   "metadata": {},
   "source": [
    "\n",
    "-   Create 1 new example that demonstrates you understand the problem. Trace/walkthrough 1 example that your partner made and explain it.\n"
   ]
  },
  {
   "cell_type": "markdown",
   "metadata": {},
   "source": [
    "- Question 1: Example\n",
    "- New Example Input: A binary tree with nodes [1, 2, 3, 2, 4]\n",
    "    Output: 2 (Closest duplicate to the root is 2)\n",
    "- Juan's Example Walkthrough:\n",
    "Juan’s input tree was [1, 2, 3, 2]. They correctly identified 2 as the duplicate. They traversed the tree and returned the duplicate closest to the root by maintaining a set of seen values.\n"
   ]
  },
  {
   "cell_type": "markdown",
   "metadata": {},
   "source": [
    "- Question 2: Example\n",
    "- New Example Input: A binary tree with nodes [1, 2, 3, None, 4]\n",
    "Output: [[1, 2, 4], [1, 3]]\n",
    "- Juan's Example Walkthrough:\n",
    "For the Juan's input tree [1, 2, 3], he correctly identified all root-to-leaf paths as [[1, 2], [1, 3]]. He performed a depth-first search to find paths."
   ]
  },
  {
   "cell_type": "markdown",
   "metadata": {},
   "source": [
    "- Question 3: Example\n",
    "- New Example Input: [1, 4, 3]\n",
    "- Output: [0, 2]\n",
    "- Juan's Example Walkthrough:\n",
    "- Juan's example [5, 0, 1] returned [2, 3, 4], showing he calculated the missing numbers in the range [0, 5] correctly by using a set-based approach."
   ]
  },
  {
   "cell_type": "markdown",
   "metadata": {},
   "source": [
    "\n",
    "-   Copy the solution your partner wrote. \n"
   ]
  },
  {
   "cell_type": "code",
   "execution_count": null,
   "metadata": {},
   "outputs": [],
   "source": [
    "# Juan's solution for Question 1 \n",
    "    # def is_duplicate(root: TreeNode) -> int:\n",
    "# Juan's solution for Question 2\n",
    "    # def bt_path(root: TreeNode) -> List[List[int]]:\n",
    "# Juan's solution for Question 3 \n",
    "    # def missing_num(nums: List) -> int:"
   ]
  },
  {
   "cell_type": "markdown",
   "metadata": {},
   "source": [
    "\n",
    "-   Explain why their solution works in your own words.\n"
   ]
  },
  {
   "cell_type": "markdown",
   "metadata": {},
   "source": [
    "\n",
    "- Question 1:\n",
    "The solution traverses the binary tree using depth-first search and stores visited values in a set. If a value is revisited, it is returned as the closest duplicate. If no duplicates exist, -1 is returned.\n",
    "\n",
    "- Question 2:\n",
    "The solution performs a depth-first traversal, appending values to the current path until a leaf is reached, at which point the path is stored. This ensures all root-to-leaf paths are captured.\n",
    "\n",
    "- Question 3:\n",
    "The solution uses a set to track all possible numbers in the range [0, n]. By removing numbers found in the input array, the remaining values in the set represent the missing numbers."
   ]
  },
  {
   "cell_type": "markdown",
   "metadata": {},
   "source": [
    "\n",
    "-   Explain the problem’s time and space complexity in your own words.\n"
   ]
  },
  {
   "cell_type": "markdown",
   "metadata": {},
   "source": [
    "\n",
    "- Q1:\n",
    "    - Time Complexity: O(n), where n is the number of nodes in the tree (each node is visited once).\n",
    "    - Space Complexity: O(h), where h is the height of the tree (due to recursion stack).\n",
    "- Q2:\n",
    "    - Time Complexity: O(n), where n is the number of nodes (each node is visited once).\n",
    "    - Space Complexity: O(h), where h is the height of the tree (path storage).\n",
    "- Q3:\n",
    "    - Time Complexity: O(n), where n is the size of the array (set operations and traversals are linear).\n",
    "    - Space Complexity: O(n), for storing the set of all possible numbers."
   ]
  },
  {
   "cell_type": "markdown",
   "metadata": {},
   "source": [
    "\n",
    "-   Critique your partner's solution, including explanation, and if there is anything that should be adjusted.\n"
   ]
  },
  {
   "cell_type": "markdown",
   "metadata": {},
   "source": [
    "- Strengths:\n",
    "\n",
    "    - Solutions are logically correct and efficiently implemented.\n",
    "    - Good use of data structures like sets for faster operations in Question 3.\n",
    "- Areas for Improvement:\n",
    "\n",
    "    - Q1: The solution Juan provided could handle edge cases like empty trees more explicitly.\n",
    "    - Q2: The function should handle large trees more gracefully by reducing recursion depth.\n",
    "    - Q3: Consider clarifying the handling of duplicate numbers (e.g., removing duplicates in preprocessing)."
   ]
  },
  {
   "cell_type": "markdown",
   "metadata": {},
   "source": [
    "## Covering Part 2 of Juan's assignment"
   ]
  },
  {
   "cell_type": "markdown",
   "metadata": {},
   "source": [
    "### Paraphrase the Problem in Your Own Words\n",
    "\n",
    "The problem requires finding missing integers from the range [0, n] in a given array of integers. If there are missing numbers, return them as a list. If all numbers are present or the input array is empty, return -1."
   ]
  },
  {
   "cell_type": "markdown",
   "metadata": {},
   "source": [
    "### Create 1 New Example & Walk Through 1 Juan's Example"
   ]
  },
  {
   "cell_type": "markdown",
   "metadata": {},
   "source": [
    "- New Example\n",
    "    - Input: [0, 1, 3]\n",
    "    - Output: [2]\n",
    "    - Explanation: The range [0, 3] is [0, 1, 2, 3], and 2 is the missing number.\n",
    "\n",
    "- Juan’s Example Walkthrough\n",
    "    - Input: [5, 0, 1]\n",
    "    - Expected Output: [2, 3, 4]\n",
    "    - Explanation: The range [0, 5] is [0, 1, 2, 3, 4, 5]. The numbers 2, 3, 4 are not present in the input list, so they are returned as missing."
   ]
  },
  {
   "cell_type": "markdown",
   "metadata": {},
   "source": [
    "\n",
    "-   Copy the solution your partner wrote. \n"
   ]
  },
  {
   "cell_type": "code",
   "execution_count": null,
   "metadata": {},
   "outputs": [],
   "source": [
    "def missing_num(nums: list) -> int:\n",
    "    if len(nums) == 0:  # Handle empty list\n",
    "        return -1\n",
    "\n",
    "    pivot = 0\n",
    "    for i in nums:\n",
    "        if pivot < i:\n",
    "            pivot = i  # Find the maximum number in the input\n",
    "\n",
    "    num_set = set(range(pivot + 1))  # Create a set with numbers from 0 to max (pivot)\n",
    "    for number in nums:\n",
    "        if number in num_set:\n",
    "            num_set.remove(number)  # Remove existing numbers from the set\n",
    "\n",
    "    if len(num_set) > 0:\n",
    "        return list(num_set)  # Return the remaining (missing) numbers\n",
    "\n",
    "    return -1  # If no numbers are missing\n"
   ]
  },
  {
   "cell_type": "markdown",
   "metadata": {},
   "source": [
    "### Explanation of Partner’s Solution\n",
    "    1. Empty Input:\n",
    "    - If the input array is empty, the function returns -1.\n",
    "\n",
    "    2. Determine Range:\n",
    "    - The maximum value in the input is determined (pivot), and a range [0, pivot] is created using a set.\n",
    "\n",
    "    3. Identify Missing Numbers:\n",
    "    - Numbers from the input are removed from the set. Any remaining numbers in the set are missing numbers.\n",
    "\n",
    "    4. Output:\n",
    "    - If numbers are missing, they are returned as a list. If none are missing, the function returns -1."
   ]
  },
  {
   "cell_type": "markdown",
   "metadata": {},
   "source": [
    "### Time and Space Complexity\n",
    "\n",
    "- Time Complexity:\n",
    "\n",
    "    - Finding Maximum: O(n), where n is the length of the input list.\n",
    "    Creating Set: O(m), where m is the maximum number in the input.\n",
    "    Iterating Through Input: O(n).\n",
    "    Overall: O(n + m).\n",
    "\n",
    "- Space Complexity:\n",
    "\n",
    "    - Set Creation: O(m), where m is the maximum number.\n",
    "    Overall: O(m)."
   ]
  },
  {
   "cell_type": "markdown",
   "metadata": {},
   "source": [
    "### Comments on Juan’s Solution\n",
    "\n",
    "- Strengths:\n",
    "    - Clarity: The code is easy to understand, with clear logic for finding the missing numbers.\n",
    "    - Efficiency: Using a set for quick removal and membership checks ensures optimal performance.\n",
    "    - Handling Edge Cases: Empty lists are handled appropriately.\n",
    "- Weaknesses:\n",
    "    - Redundant Iterations: The code determines the maximum value in one loop and iterates again through the input to modify the set. This could be optimized.\n",
    "    - Space Usage: The range-based set consumes space proportional to the maximum number, which could be inefficient for large pivot values.\n",
    "- Improvements:\n",
    "    - Optimize the Code: Use a constant space approach by summing the range [0, n] and subtracting the sum of the input list to find the missing numbers.\n",
    "    Example:"
   ]
  },
  {
   "cell_type": "code",
   "execution_count": null,
   "metadata": {},
   "outputs": [],
   "source": [
    "def missing_num(nums: list) -> int:\n",
    "    if not nums:\n",
    "        return -1\n",
    "    n = max(nums)\n",
    "    full_sum = sum(range(n + 1))\n",
    "    input_sum = sum(set(nums))  # Remove duplicates\n",
    "    missing = [i for i in range(n + 1) if i not in nums]\n",
    "    return missing if missing else -1"
   ]
  },
  {
   "cell_type": "markdown",
   "metadata": {},
   "source": [
    "- Clarify Handling of Repeated Numbers: The partner’s code assumes duplicate numbers in the input don’t affect the output. This behavior should be explicitly stated in the comments or examples."
   ]
  },
  {
   "cell_type": "markdown",
   "metadata": {},
   "source": [
    "\n",
    "## Part 3:\n",
    "\n",
    "Please write a 200 word reflection documenting your process from assignment 1, and your presentation and review experience with your partner at the bottom of the Jupyter Notebook under a new heading \"Reflection.\" Again, export this Notebook as pdf.\n"
   ]
  },
  {
   "cell_type": "markdown",
   "metadata": {},
   "source": [
    "### Reflection\n",
    "\n",
    "\n",
    "- In Assignment 1, I began the process by breaking down the problem into small doable parts to make sure that I fully understood the requirements. I also studied the given examples and the diagrams and ensured that I could replicate the expected outputs with a logical approach. My focus was on writing a clean, efficient, and scalable solution. At first, I explored using lists for missing number identification, but I shifted to sets to optimize performance, as their constant-time lookup and removal operations align well with the problem's constraints.\n",
    "- During the presentation and review phase with my partner which was Juan Sebastian Jimenez Valero, we exchanged feedback constructively. While reviewing his solution, I appreciated his clear documentation and attention to edge cases. However, I noticed areas for improvement, particularly in optimization of space complexity and reducing redundant iterations. I suggested an alternative approach using a mathematical formula or summation logic to streamline the code.\n",
    "- The collaborative experience was very helpful and amazing and also being able to code at this level it was very intriguing, as it allowed me to reflect on my own approach and learn new perspectives. I also realized the importance of explicitly documenting assumptions, such as handling duplicates in the input. This process reinforced my problem-solving skills and highlighted the value of peer feedback in refining solutions.\n",
    "- Overall, the assignment and review experience were both challenging and rewarding, solidifying my understanding of algorithm design and analysis."
   ]
  },
  {
   "cell_type": "markdown",
   "metadata": {},
   "source": [
    "## Submission Information\n",
    "\n",
    "🚨 **Please review our [Assignment Submission Guide](https://github.com/UofT-DSI/onboarding/blob/main/onboarding_documents/submissions.md)** 🚨 for detailed instructions on how to format, branch, and submit your work. Following these guidelines is crucial for your submissions to be evaluated correctly.\n",
    "\n",
    "### Submission Parameters:\n",
    "* Submission Due Date: `HH:MM AM/PM - DD/MM/YYYY`\n",
    "* The branch name for your repo should be: `assignment-2`\n",
    "* What to submit for this assignment:\n",
    "    * This Jupyter Notebook (assignment_2.ipynb) should be populated and should be the only change in your pull request.\n",
    "* What the pull request link should look like for this assignment: `https://github.com/<your_github_username>/algorithms_and_data_structures/pull/<pr_id>`\n",
    "    * Open a private window in your browser. Copy and paste the link to your pull request into the address bar. Make sure you can see your pull request properly. This helps the technical facilitator and learning support staff review your submission easily.\n",
    "\n",
    "Checklist:\n",
    "- [ ] Created a branch with the correct naming convention.\n",
    "- [ ] Ensured that the repository is public.\n",
    "- [ ] Reviewed the PR description guidelines and adhered to them.\n",
    "- [ ] Verify that the link is accessible in a private browser window.\n",
    "\n",
    "If you encounter any difficulties or have questions, please don't hesitate to reach out to our team via our Slack at `#cohort-3-help`. Our Technical Facilitators and Learning Support staff are here to help you navigate any challenges.\n"
   ]
  }
 ],
 "metadata": {
  "kernelspec": {
   "display_name": "dsi_participant",
   "language": "python",
   "name": "python3"
  },
  "language_info": {
   "codemirror_mode": {
    "name": "ipython",
    "version": 3
   },
   "file_extension": ".py",
   "mimetype": "text/x-python",
   "name": "python",
   "nbconvert_exporter": "python",
   "pygments_lexer": "ipython3",
   "version": "3.9.15"
  }
 },
 "nbformat": 4,
 "nbformat_minor": 2
}
