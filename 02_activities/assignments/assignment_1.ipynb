{
 "cells": [
  {
   "cell_type": "markdown",
   "metadata": {},
   "source": [
    "# Coding Problems\n",
    "\n",
    "## Objective\n",
    "\n",
    "This assignment aims to demonstrate how to study a data structures or algorithms question in depth to prepare for an industry coding interview. Leetcode is a popular coding practice site that many use to practice for technical interviews. Like behavioral interviews, it's important to practice and keep your skills sharp.\n",
    "\n",
    "## Group Size\n",
    "\n",
    "Please complete this individually.\n",
    "\n",
    "## Part 1:\n",
    "\n",
    "_*You will be assigned one of three problems based of your first name. Execute the code below, and that will tell you your assigned problem. Include the output as part of your submission (do not clear the output). The problems are based-off problems from Leetcode.*_\n"
   ]
  },
  {
   "cell_type": "code",
   "execution_count": 6,
   "metadata": {},
   "outputs": [
    {
     "name": "stdout",
     "output_type": "stream",
     "text": [
      "2\n"
     ]
    }
   ],
   "source": [
    "print((hash('Mohammed Aadil') % 3) + 1)"
   ]
  },
  {
   "cell_type": "markdown",
   "metadata": {},
   "source": [
    "<details>\n",
    "  <summary>Question 1</summary>\n",
    "\n",
    "  # Question One: Check Duplicates in Tree\n",
    "\n",
    "  Given the `root` of a binary tree, check whether it is contains a duplicate value. If a duplicate exists, return the duplicate value. If there are multiple duplicates, return the one with the closest distance to the root. If no duplicate exists, return -1.\n",
    "\n",
    "  ## Examples\n",
    "\n",
    "  ### Example 1\n",
    "\n",
    "  ![](./images/q1_ex1.png)\n",
    "\n",
    "  Input: `root = [1, 2, 2, 3, 5, 6, 7]` *What traversal method is this?*\n",
    "\n",
    "  Output: 2\n",
    "\n",
    "  ### Example 2\n",
    "\n",
    "  ![](./images/q1_ex2.png)\n",
    "\n",
    "  Input: `root = [1, 10, 2, 3, 10, 12, 12]`\n",
    "\n",
    "  Output: 10\n",
    "\n",
    "  ### Example 3\n",
    "\n",
    "  ![](./images/q1_ex3.png)\n",
    "\n",
    "  Input: `root = [10, 9, 8, 7]`\n",
    "\n",
    "  Output: -1\n",
    "\n",
    "</details>\n",
    "\n",
    "#### Starter Code for Question 1"
   ]
  },
  {
   "cell_type": "code",
   "execution_count": 3,
   "metadata": {},
   "outputs": [],
   "source": [
    "# Definition for a binary tree node.\n",
    "class TreeNode:\n",
    "    def __init__(self, val=0, left=None, right=None):\n",
    "        self.val = val\n",
    "        self.left = left\n",
    "        self.right = right\n",
    "\n",
    "def is_duplicate(root: TreeNode) -> int:\n",
    "    def traverse(node, seen):\n",
    "        if not node:\n",
    "            return -1\n",
    "        # Check if the value is already seen\n",
    "        if node.val in seen:\n",
    "            return node.val\n",
    "        # Add current value to seen set\n",
    "        seen.add(node.val)\n",
    "        # Check left and right subtree for duplicates\n",
    "        left_result = traverse(node.left, seen)\n",
    "        if left_result != -1:\n",
    "            return left_result\n",
    "        return traverse(node.right, seen)\n",
    "\n",
    "    # Use a set to track seen values\n",
    "    return traverse(root, set())"
   ]
  },
  {
   "cell_type": "markdown",
   "metadata": {},
   "source": [
    "<details>\n",
    "  <summary>Question 2</summary>\n",
    "\n",
    "  # Question Two: Path to Leaves\n",
    "\n",
    "  Given the `root` of a binary tree, return all root to leaf paths in any order.\n",
    "\n",
    "  ## Examples\n",
    "\n",
    "  ### Example 1\n",
    "\n",
    "  ![](./images/q1_ex1.png)\n",
    "\n",
    "  Input: `root = [1, 2, 2, 3, 5, 6, 7]` *What traversal method is this?*\n",
    "\n",
    "  Output: [[1, 2, 3], [1, 2, 5], [1, 2, 6], [1, 2, 7]]\n",
    "\n",
    "  ### Example 2\n",
    "\n",
    "  ![](./images/q1_ex3.png)\n",
    "\n",
    "  Input: `root = [10, 9, 7, 8]`\n",
    "\n",
    "  Output: [[10, 7], [10, 9, 8]]\n",
    "\n",
    "</details>\n",
    "\n",
    "#### Starter Code for Question 2"
   ]
  },
  {
   "cell_type": "code",
   "execution_count": 4,
   "metadata": {},
   "outputs": [],
   "source": [
    "# Definition for a binary tree node.\n",
    "class TreeNode:\n",
    "    def __init__(self, val=0, left=None, right=None):\n",
    "        self.val = val\n",
    "        self.left = left\n",
    "        self.right = right\n",
    "\n",
    "def bt_path(root: TreeNode) -> list[list[int]]:\n",
    "    def dfs(node, path, result):\n",
    "        if not node:\n",
    "            return\n",
    "        # Add current node to the path\n",
    "        path.append(node.val)\n",
    "        # If it's a leaf node, append the path to the result\n",
    "        if not node.left and not node.right:\n",
    "            result.append(list(path))\n",
    "        else:\n",
    "            # Recurse left and right\n",
    "            dfs(node.left, path, result)\n",
    "            dfs(node.right, path, result)\n",
    "        # Backtrack\n",
    "        path.pop()\n",
    "    \n",
    "    result = []\n",
    "    dfs(root, [], result)\n",
    "    return result\n"
   ]
  },
  {
   "cell_type": "markdown",
   "metadata": {},
   "source": [
    "<details>\n",
    "  <summary>Question 3</summary>\n",
    "\n",
    "  # Question Three: Missing Number in Range\n",
    " \n",
    "  You are given a list containing `n` integers in the range `[0, n]`. Return a list of numbers that are missing from the range `[0, n]` of the array. If there is no missing number, return -1. Note, all the integers in the list may not be unique.\n",
    "  \n",
    "  ## Examples\n",
    "\n",
    "  ### Example 1\n",
    "\n",
    "  Input: `lst = [0, 2]`\n",
    "\n",
    "  Output: [1]\n",
    "\n",
    "  ### Example 2\n",
    "\n",
    "  Input: `lst = [5, 0, 1]`\n",
    "\n",
    "  Output: [2, 3, 4]\n",
    "\n",
    "  ### Example 3\n",
    "\n",
    "  Input: `lst = [6, 8, 2, 3, 5, 7, 0, 1, 10]`\n",
    "\n",
    "  Output: [4, 9]\n",
    "\n",
    "</details>\n",
    "\n",
    "#### Starter Code for Question 3\n"
   ]
  },
  {
   "cell_type": "code",
   "execution_count": null,
   "metadata": {},
   "outputs": [],
   "source": [
    "def missing_num(nums: list[int]) -> list[int]:\n",
    "    # Get the range of numbers\n",
    "    n = len(nums)\n",
    "    full_set = set(range(n + 1))\n",
    "    # Convert input list to a set\n",
    "    nums_set = set(nums)\n",
    "    # Find missing numbers\n",
    "    missing = list(full_set - nums_set)\n",
    "    return missing if missing else -1\n"
   ]
  },
  {
   "cell_type": "markdown",
   "metadata": {},
   "source": [
    "\n",
    "## Part 2:\n",
    "\n",
    "-   Paraphrase the problem in your own words\n"
   ]
  },
  {
   "cell_type": "markdown",
   "metadata": {},
   "source": [
    "- In this .ipynb file, there are examples that illustrate how the code should work (the examples provided above). Create 2 new examples for the question you have been assigned, that demonstrate you understand the problem. For question 1 and 2, you don't need to create the tree demonstration, just the input and output.\n"
   ]
  },
  {
   "cell_type": "markdown",
   "metadata": {},
   "source": [
    "Question 1: Check Duplicates in Tree\n",
    "\n",
    "- We are given a binary tree and need to find the first duplicate value encountered when traversing from the root. The duplicate closest to the root should be returned. If no duplicates exist, return -1.\n",
    "\n",
    "- Two New Examples\n",
    "Input: root = [8, 3, 10, 1, 6, 14, 6]\n",
    "Output: 6\n",
    "Explanation: 6 is duplicated in the tree and is closest to the root.\n",
    "\n",
    "- Input: root = [7, 4, 9]\n",
    "Output: -1\n",
    "Explanation: There are no duplicate values in the tree."
   ]
  },
  {
   "cell_type": "markdown",
   "metadata": {},
   "source": [
    "\n",
    "-   Code the solution to your assigned problem in Python (code chunk). Try to find the best time and space complexity solution!\n"
   ]
  },
  {
   "cell_type": "code",
   "execution_count": null,
   "metadata": {},
   "outputs": [],
   "source": [
    "\n",
    "# Definition for a binary tree node.\n",
    "class TreeNode:\n",
    "    def _init(self, val=0, left=None, right=None):  \n",
    "        self.val = val  \n",
    "        self.left = left  \n",
    "        self.right = right  \n",
    "\n",
    "def is_duplicate(root: TreeNode) -> int:\n",
    "    # helper function to check for duplicates\n",
    "    def traverse(node, seen):\n",
    "        if not node:  # (no duplicate found)\n",
    "            return -1\n",
    "        if node.val in seen:  # If it's a duplicate\n",
    "            return node.val\n",
    "        seen.add(node.val)  # adding the current node's value to the set\n",
    "        # check the left subtree\n",
    "        left_result = traverse(node.left, seen)\n",
    "        if left_result != -1:  # If a duplicate is found in the left subtree, return it\n",
    "            return left_result\n",
    "        # recursively check the right subtree\n",
    "        return traverse(node.right, seen)\n",
    "    \n",
    "    # start the traversal with an empty set to track seen values\n",
    "    return traverse(root, set())"
   ]
  },
  {
   "cell_type": "markdown",
   "metadata": {},
   "source": [
    "\n",
    "-   Explain why your solution works\n"
   ]
  },
  {
   "cell_type": "markdown",
   "metadata": {},
   "source": [
    "--> This solution uses a pre-order traversal (visit the current node first) and checks for duplicates using a set. As soon as a duplicate is found, it returns the value. This ensures the duplicate closest to the root is prioritized."
   ]
  },
  {
   "cell_type": "markdown",
   "metadata": {},
   "source": [
    "\n",
    "-   Explain the problem’s time and space complexity\n"
   ]
  },
  {
   "cell_type": "markdown",
   "metadata": {},
   "source": [
    "Time Complexity: O(n), where n is the number of nodes, since each node is visited once.\n",
    "\n",
    "Space Complexity: O(h) + O(v), where h is the height of the tree (recursion stack), and v is the number of unique values in the tree."
   ]
  },
  {
   "cell_type": "markdown",
   "metadata": {},
   "source": [
    "Time Complexity: O(n), where n is the number of nodes, since each node is visited once.\n",
    "\n",
    "Space Complexity: O(h) + O(v), where h is the height of the tree (recursion stack), and v is the number of unique values in the tree."
   ]
  },
  {
   "cell_type": "markdown",
   "metadata": {},
   "source": [
    "\n",
    "-   Explain the thinking to an alternative solution (no coding required, but a classmate reading this should be able to code it up based off your text)\n"
   ]
  },
  {
   "cell_type": "markdown",
   "metadata": {},
   "source": [
    "Instead of a recursive approach, use level-order traversal (BFS) with a queue:\n",
    "\n",
    "Traverse nodes level by level using a queue.\n",
    "Use a set to track seen values.\n",
    "Return the first duplicate encountered."
   ]
  },
  {
   "cell_type": "markdown",
   "metadata": {},
   "source": [
    "Question 2: Path to Leaves\n",
    "\n",
    "- We are given a binary tree and need to find all paths from the root to its leaves. A path is a sequence of values representing the nodes traversed from root to a leaf.\n",
    "\n",
    "- Two New Examples\n",
    "Input: root = [3, 9, 20, None, None, 15, 7]\n",
    "Output: [[3, 9], [3, 20, 15], [3, 20, 7]]\n",
    "\n",
    "Input: root = [1, 2, 3, 4, 5]\n",
    "Output: [[1, 2, 4], [1, 2, 5], [1, 3]]"
   ]
  },
  {
   "cell_type": "code",
   "execution_count": null,
   "metadata": {},
   "outputs": [],
   "source": [
    "# Definition for a binary tree node.\n",
    "class TreeNode:\n",
    "    def __init__(self, val=0, left=None, right=None):\n",
    "        # Initializing the tree node\n",
    "        self.val = val\n",
    "        self.left = left\n",
    "        self.right = right\n",
    "\n",
    "# finding all paths from roots to leaves\n",
    "def bt_path(root: TreeNode) -> list[list[int]]:\n",
    "    # helper function for dfs\n",
    "    def dfs(node, path, result):\n",
    "        # if reached end of path then return\n",
    "        if not node:\n",
    "            return\n",
    "        # addind current's node value to the current path\n",
    "        path.append(node.val)\n",
    "        # if it is a leaf node (no L or R children)\n",
    "        if not node.left and not node.right:\n",
    "            # add current -> result\n",
    "            result.append(list(path))\n",
    "        else:\n",
    "            # explore L and R subtrees recursively\n",
    "            dfs(node.left, path, result)\n",
    "            dfs(node.right, path, result)\n",
    "        # backtrack\n",
    "        path.pop()\n",
    "    \n",
    "    # store all root to leaf paths\n",
    "    result = []\n",
    "    # helper fn to start dfs frm root node\n",
    "    dfs(root, [], result)\n",
    "    # return list of all paths frm root to leaves\n",
    "    return result\n"
   ]
  },
  {
   "cell_type": "markdown",
   "metadata": {},
   "source": [
    "\n",
    "-   Explain why your solution works\n"
   ]
  },
  {
   "cell_type": "markdown",
   "metadata": {},
   "source": [
    "- The solution uses DFS to explore all possible paths from the root to the leaves. At each leaf, it saves the current path. Backtracking ensures other paths are explored without interference."
   ]
  },
  {
   "cell_type": "markdown",
   "metadata": {},
   "source": [
    "Time Complexity: O(n), where n is the number of nodes\n",
    "\n",
    "Space Complexity: O(h), where h is the tree's height due to recursion"
   ]
  },
  {
   "cell_type": "markdown",
   "metadata": {},
   "source": [
    "\n",
    "-   Explain the thinking to an alternative solution (no coding required, but a classmate reading this should be able to code it up based off your text)\n"
   ]
  },
  {
   "cell_type": "markdown",
   "metadata": {},
   "source": [
    "Use iterative DFS with a stack:\n",
    "\n",
    "Push nodes with their current paths onto the stack.\n",
    "Process the stack iteratively, appending paths when a leaf is encountered."
   ]
  }
 ],
 "metadata": {
  "kernelspec": {
   "display_name": "dsi_participant",
   "language": "python",
   "name": "python3"
  },
  "language_info": {
   "codemirror_mode": {
    "name": "ipython",
    "version": 3
   },
   "file_extension": ".py",
   "mimetype": "text/x-python",
   "name": "python",
   "nbconvert_exporter": "python",
   "pygments_lexer": "ipython3",
   "version": "3.9.15"
  }
 },
 "nbformat": 4,
 "nbformat_minor": 2
}
